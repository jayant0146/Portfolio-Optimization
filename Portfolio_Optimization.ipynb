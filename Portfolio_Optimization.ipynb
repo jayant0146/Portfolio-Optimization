{
  "nbformat": 4,
  "nbformat_minor": 0,
  "metadata": {
    "colab": {
      "provenance": [],
      "authorship_tag": "ABX9TyNQLpVoFrOKFOhhW83kM/Ka",
      "include_colab_link": true
    },
    "kernelspec": {
      "name": "python3",
      "display_name": "Python 3"
    },
    "language_info": {
      "name": "python"
    }
  },
  "cells": [
    {
      "cell_type": "markdown",
      "metadata": {
        "id": "view-in-github",
        "colab_type": "text"
      },
      "source": [
        "<a href=\"https://colab.research.google.com/github/jayant0146/Portfolio-Optimization/blob/main/Portfolio_Optimization.ipynb\" target=\"_parent\"><img src=\"https://colab.research.google.com/assets/colab-badge.svg\" alt=\"Open In Colab\"/></a>"
      ]
    },
    {
      "cell_type": "code",
      "execution_count": null,
      "metadata": {
        "id": "rqkEHKBPgEdT"
      },
      "outputs": [],
      "source": [
        "import yfinance as yf # Yahoo finance allows to read the stocks prices\n",
        "import pandas as pd   # Allows to put data into the data tables\n",
        "from datetime import datetime, timedelta\n",
        "import numpy as np\n",
        "from scipy.optimize import minimize # numpy and scipy allows for the statistical methods required"
      ]
    },
    {
      "cell_type": "markdown",
      "source": [
        "Declare the list of stocks and the starting date and the date 5 years back"
      ],
      "metadata": {
        "id": "rUs9cyf0iX5K"
      }
    },
    {
      "cell_type": "code",
      "source": [
        "tickers = ['SPY', 'BND', 'GLD', 'QQQ', 'VTI']\n",
        "end_date = datetime.today()\n",
        "start_date = end_date - timedelta(5 * 365)\n",
        "print(start_date)"
      ],
      "metadata": {
        "colab": {
          "base_uri": "https://localhost:8080/"
        },
        "id": "DQn3St2ihUMH",
        "outputId": "1ddb2fe6-d98b-4af2-ffb1-bd16a707592a"
      },
      "execution_count": null,
      "outputs": [
        {
          "output_type": "stream",
          "name": "stdout",
          "text": [
            "2019-07-31 09:56:19.452531\n"
          ]
        }
      ]
    },
    {
      "cell_type": "markdown",
      "source": [
        "# Declaring the Adjusted Close Price\n",
        "Adjusted close Price are far away better than the normal close price as it accounts for corporate actions such as dividends and stock splits. The adjusted closing price ensures the accurate reflection of the historical stock price data on the stock's real performance over a period. While the closing price simply refers to the cost of shares at the end of the day"
      ],
      "metadata": {
        "id": "AuppxFUbj5Z7"
      }
    },
    {
      "cell_type": "code",
      "source": [
        "adj_close_df = pd.DataFrame()\n",
        "\n",
        "for ticker in tickers:\n",
        "  data = yf.download(ticker, start = start_date, end = end_date)\n",
        "  adj_close_df[ticker] = data['Adj Close']"
      ],
      "metadata": {
        "colab": {
          "base_uri": "https://localhost:8080/"
        },
        "id": "vH36hcbgi276",
        "outputId": "318e5b60-1c84-4100-fdf0-d5ed5fc0e53c"
      },
      "execution_count": null,
      "outputs": [
        {
          "output_type": "stream",
          "name": "stderr",
          "text": [
            "[*********************100%%**********************]  1 of 1 completed\n",
            "[*********************100%%**********************]  1 of 1 completed\n",
            "[*********************100%%**********************]  1 of 1 completed\n",
            "[*********************100%%**********************]  1 of 1 completed\n",
            "[*********************100%%**********************]  1 of 1 completed\n"
          ]
        }
      ]
    },
    {
      "cell_type": "code",
      "source": [
        "print(adj_close_df)"
      ],
      "metadata": {
        "colab": {
          "base_uri": "https://localhost:8080/"
        },
        "id": "heaC2NmlkkKQ",
        "outputId": "8f59886e-c395-4b25-c516-3cf3200a6d74"
      },
      "execution_count": null,
      "outputs": [
        {
          "output_type": "stream",
          "name": "stdout",
          "text": [
            "                   SPY        BND         GLD         QQQ         VTI\n",
            "Date                                                                 \n",
            "2019-07-31  274.904114  72.717323  133.210007  185.118408  140.549820\n",
            "2019-08-01  272.510223  73.238091  136.410004  184.198135  139.247803\n",
            "2019-08-02  270.458344  73.308327  135.889999  181.485794  138.121262\n",
            "2019-08-05  262.324860  73.624474  137.789993  175.073013  134.021393\n",
            "2019-08-06  266.003418  73.808861  138.910004  177.523834  135.766632\n",
            "...                ...        ...         ...         ...         ...\n",
            "2024-07-22  554.650024  72.690002  221.800003  482.320007  273.890015\n",
            "2024-07-23  553.780029  72.699997  222.580002  480.619995  273.690002\n",
            "2024-07-24  541.229980  72.489998  221.800003  463.380005  267.529999\n",
            "2024-07-25  538.409973  72.650002  218.330002  458.269989  266.500000\n",
            "2024-07-26  544.440002  72.940002  220.630005  462.970001  269.690002\n",
            "\n",
            "[1256 rows x 5 columns]\n"
          ]
        }
      ]
    },
    {
      "cell_type": "markdown",
      "source": [
        "# Calculate the daily returns (lognormal) for each ticker\n",
        "Logarithmic returns are important in finance because they provide a more accurate measure of the percentage change in the value of an asset over a period of time."
      ],
      "metadata": {
        "id": "rghU7xtGnK1N"
      }
    },
    {
      "cell_type": "code",
      "source": [
        "log_returns = np.log(adj_close_df / adj_close_df.shift(1))\n",
        "log_returns = log_returns.dropna()"
      ],
      "metadata": {
        "id": "U9krL9fIlbGn"
      },
      "execution_count": null,
      "outputs": []
    },
    {
      "cell_type": "markdown",
      "source": [
        "# Calulate the Covariance Matrix"
      ],
      "metadata": {
        "id": "YqdzfBON-kZ_"
      }
    },
    {
      "cell_type": "code",
      "source": [
        "cov_matrix = log_returns.cov() * 252\n",
        "print(cov_matrix)"
      ],
      "metadata": {
        "colab": {
          "base_uri": "https://localhost:8080/"
        },
        "id": "aifBquT6qNTg",
        "outputId": "0790cfa0-04fe-425c-f114-cd64c657c90d"
      },
      "execution_count": null,
      "outputs": [
        {
          "output_type": "stream",
          "name": "stdout",
          "text": [
            "          SPY       BND       GLD       QQQ       VTI\n",
            "SPY  0.044244  0.002994  0.004024  0.049951  0.045293\n",
            "BND  0.002994  0.004852  0.003920  0.003612  0.003191\n",
            "GLD  0.004024  0.003920  0.023423  0.005339  0.004260\n",
            "QQQ  0.049951  0.003612  0.005339  0.065018  0.051062\n",
            "VTI  0.045293  0.003191  0.004260  0.051062  0.046747\n"
          ]
        }
      ]
    },
    {
      "cell_type": "markdown",
      "source": [
        "# Defining Portfolio Performance Metrics\n",
        "Portfolio Standard Deviation, Expected returns(Based on historical returns), and the Sharp Ratio"
      ],
      "metadata": {
        "id": "CjFbqXtS_GvD"
      }
    },
    {
      "cell_type": "code",
      "source": [
        "def standard_deviation(weights, cov_matrix) :\n",
        "  variance = weights.T @ cov_matrix @ weights\n",
        "  return np.sqrt(variance)"
      ],
      "metadata": {
        "id": "ymehPg0--254"
      },
      "execution_count": null,
      "outputs": []
    },
    {
      "cell_type": "code",
      "source": [
        "def expected_return (weights, log_returns):\n",
        "  return np.sum(log_returns.mean() * weights) * 252"
      ],
      "metadata": {
        "id": "CjG77mPwEidy"
      },
      "execution_count": null,
      "outputs": []
    },
    {
      "cell_type": "code",
      "source": [
        "def sharpe_ratio(weights, log_returns, cov_matrix, risk_free_rate) :\n",
        "  return (expected_return(weights, log_returns) - risk_free_rate) / standard_deviation(weights, cov_matrix)"
      ],
      "metadata": {
        "id": "j4DPwtzwG-ao"
      },
      "execution_count": null,
      "outputs": []
    },
    {
      "cell_type": "code",
      "source": [
        "risk_free_rate = 0.02 #Often assumed to be 2%"
      ],
      "metadata": {
        "id": "uyqKUlE_HaeI"
      },
      "execution_count": null,
      "outputs": []
    },
    {
      "cell_type": "code",
      "source": [
        "def neg_sharpe_ratio(weights, log_returns, cov_matrix, risk_free_rate) :\n",
        "  return -sharpe_ratio(weights, log_returns, cov_matrix, risk_free_rate)\n",
        "\n",
        "# Since scipy library only has the minimise function, and we're supposed to find the maximum"
      ],
      "metadata": {
        "id": "i7teiTfhIKek"
      },
      "execution_count": null,
      "outputs": []
    },
    {
      "cell_type": "markdown",
      "source": [
        "# Setting the constraints and the bounds"
      ],
      "metadata": {
        "id": "NENvp5z6JlXE"
      }
    },
    {
      "cell_type": "code",
      "source": [
        "constraints = {'type' : 'eq', 'fun' : lambda weights : np.sum(weights) - 1}\n",
        "bounds = [(0, 0.5) for _ in range(len(tickers))]"
      ],
      "metadata": {
        "id": "ZoM3LGlhIwYV"
      },
      "execution_count": null,
      "outputs": []
    },
    {
      "cell_type": "code",
      "source": [
        "initial_weights = np.array([1 / len(tickers)] * len(tickers))\n",
        "print(initial_weights)"
      ],
      "metadata": {
        "colab": {
          "base_uri": "https://localhost:8080/"
        },
        "id": "_fJZcuZuJ_yB",
        "outputId": "4c12b94b-509f-4002-c252-a15f232a1c33"
      },
      "execution_count": null,
      "outputs": [
        {
          "output_type": "stream",
          "name": "stdout",
          "text": [
            "[0.2 0.2 0.2 0.2 0.2]\n"
          ]
        }
      ]
    },
    {
      "cell_type": "markdown",
      "source": [
        "# Optimise the weights to maximise the sharp ratio"
      ],
      "metadata": {
        "id": "S8FP42r3Ksbf"
      }
    },
    {
      "cell_type": "code",
      "source": [
        "optimized_results = minimize(neg_sharpe_ratio, initial_weights, args = (log_returns, cov_matrix, risk_free_rate), method = 'SLSQP', constraints = constraints, bounds = bounds)\n",
        "\n",
        "print(optimized_results)\n",
        "# SLSQP method stands for Standard Least Squares Quadratic Programming which is the numerical optimization technique  for solviong non linear optimization with constraints"
      ],
      "metadata": {
        "colab": {
          "base_uri": "https://localhost:8080/"
        },
        "id": "yf0jx6yKKKCp",
        "outputId": "ee71fa31-a015-4500-ea5c-910072a72015"
      },
      "execution_count": null,
      "outputs": [
        {
          "output_type": "stream",
          "name": "stdout",
          "text": [
            " message: Optimization terminated successfully\n",
            " success: True\n",
            "  status: 0\n",
            "     fun: -0.7793942972425021\n",
            "       x: [ 8.327e-17  1.136e-16  5.000e-01  5.000e-01  9.368e-17]\n",
            "     nit: 5\n",
            "     jac: [-2.283e-02  1.145e-01 -1.913e-01 -6.283e-02  3.870e-02]\n",
            "    nfev: 30\n",
            "    njev: 5\n"
          ]
        }
      ]
    },
    {
      "cell_type": "code",
      "source": [
        "optimal_weights = optimized_results.x #Refers to the X Axis of these results"
      ],
      "metadata": {
        "id": "I4tATTe0MHQr"
      },
      "execution_count": null,
      "outputs": []
    },
    {
      "cell_type": "markdown",
      "source": [
        "#Display Analytics of the Optimal Portfolio"
      ],
      "metadata": {
        "id": "4a07SMXoNK9I"
      }
    },
    {
      "cell_type": "code",
      "source": [
        "print(\"Optimal Weights are: \")\n",
        "for ticker, weight in zip(tickers, optimal_weights):\n",
        "  print(f\"{ticker}: {weight:.5f}\")"
      ],
      "metadata": {
        "colab": {
          "base_uri": "https://localhost:8080/"
        },
        "id": "nv6FIEXHMUkj",
        "outputId": "1dc7141a-dff9-4a50-f804-d53423fa1c8d"
      },
      "execution_count": null,
      "outputs": [
        {
          "output_type": "stream",
          "name": "stdout",
          "text": [
            "Optimal Weights are: \n",
            "SPY: 0.00000\n",
            "BND: 0.00000\n",
            "GLD: 0.50000\n",
            "QQQ: 0.50000\n",
            "VTI: 0.00000\n"
          ]
        }
      ]
    },
    {
      "cell_type": "code",
      "source": [
        "# By the above results, it's benefitted to put in Gold and NAsdaqq and nothing to anywhere else\n",
        "optimal_portfolio_return = expected_return(optimal_weights, log_returns)\n",
        "optimal_portfolio_volatility = standard_deviation(optimal_weights, cov_matrix)\n",
        "optimal_sharpe_ratio = sharpe_ratio(optimal_weights, log_returns, cov_matrix, risk_free_rate)\n",
        "\n",
        "print(f\"Expected Annual return {optimal_portfolio_return:.5f}\")\n",
        "print(f\"Expected Voilatility {optimal_portfolio_volatility:.5f}\")\n",
        "print(f\"Expected Sharpe ratio {optimal_sharpe_ratio:.5f}\")"
      ],
      "metadata": {
        "colab": {
          "base_uri": "https://localhost:8080/"
        },
        "id": "_dipgWYONqLa",
        "outputId": "c10ddc69-68f5-4ba2-96d5-90f32849e75e"
      },
      "execution_count": null,
      "outputs": [
        {
          "output_type": "stream",
          "name": "stdout",
          "text": [
            "Expected Annual return 0.14269\n",
            "Expected Voilatility 0.15742\n",
            "Expected Sharpe ratio 0.77939\n"
          ]
        }
      ]
    },
    {
      "cell_type": "code",
      "source": [
        "import matplotlib.pyplot as plt\n",
        "plt.figure(figsize = (6, 4))\n",
        "plt.bar(tickers, optimal_weights)\n",
        "\n",
        "plt.xlabel(\"Assets\")\n",
        "plt.ylabel(\"Optimal Weights\")\n",
        "plt.title(\"Optimal Portfolio Weights\")\n",
        "\n",
        "plt.show()"
      ],
      "metadata": {
        "colab": {
          "base_uri": "https://localhost:8080/",
          "height": 410
        },
        "id": "TIVstj4XO8kt",
        "outputId": "4960ad46-8e60-4d46-a11c-490edfd3fa06"
      },
      "execution_count": null,
      "outputs": [
        {
          "output_type": "display_data",
          "data": {
            "text/plain": [
              "<Figure size 600x400 with 1 Axes>"
            ],
            "image/png": "[encoded data removed]"
          },
          "metadata": {}
        }
      ]
    },
    {
      "cell_type": "code",
      "source": [],
      "metadata": {
        "id": "sEv8n0gUPpdR"
      },
      "execution_count": null,
      "outputs": []
    }
  ]
}